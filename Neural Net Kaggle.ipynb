{
 "cells": [
  {
   "cell_type": "code",
   "execution_count": 7,
   "metadata": {},
   "outputs": [],
   "source": [
    "import numpy as np\n",
    "import pandas as pd\n",
    "from sklearn.neural_network import MLPClassifier\n",
    "from sklearn.model_selection import train_test_split\n",
    "\n",
    "#CHANGE THESE FILEPATHS TO THE PLACE WHERE THEY ARE STORED\n",
    "#VERY IMPORTANT\n",
    "train_data_raw = pd.read_csv(\"D:/Users/Owner/Desktop/AI/Project/datasets/train_sorted_data.csv\")\n",
    "train_data_target = pd.read_csv(\"D:/Users/Owner/Desktop/AI/Project/datasets/train_sorted_labels.csv\")\n",
    "test_data_raw = pd.read_csv(\"D:/Users/Owner/Desktop/AI/Project/datasets/test.csv\")"
   ]
  },
  {
   "cell_type": "code",
   "execution_count": 9,
   "metadata": {},
   "outputs": [],
   "source": [
    "train_data = train_data_raw.floordiv(32)\n",
    "test_data = test_data_raw.floordiv(32)\n",
    "train_X, test_X, train_y, test_y = train_test_split(train_data, train_data_target, test_size=0.33)"
   ]
  },
  {
   "cell_type": "code",
   "execution_count": 10,
   "metadata": {},
   "outputs": [
    {
     "name": "stderr",
     "output_type": "stream",
     "text": [
      "c:\\users\\owner\\appdata\\local\\programs\\python\\python37\\lib\\site-packages\\sklearn\\neural_network\\multilayer_perceptron.py:916: DataConversionWarning: A column-vector y was passed when a 1d array was expected. Please change the shape of y to (n_samples, ), for example using ravel().\n",
      "  y = column_or_1d(y, warn=True)\n"
     ]
    },
    {
     "name": "stdout",
     "output_type": "stream",
     "text": [
      "Iteration 1, loss = 0.46261644\n",
      "Iteration 2, loss = 0.16781315\n",
      "Iteration 3, loss = 0.11328517\n",
      "Iteration 4, loss = 0.07982946\n",
      "Iteration 5, loss = 0.05553581\n",
      "Iteration 6, loss = 0.04733088\n",
      "Iteration 7, loss = 0.03850516\n",
      "Iteration 8, loss = 0.02787249\n",
      "Iteration 9, loss = 0.01984032\n",
      "Iteration 10, loss = 0.01270480\n",
      "Iteration 11, loss = 0.02189782\n",
      "Iteration 12, loss = 0.01119192\n",
      "Iteration 13, loss = 0.00703403\n",
      "Iteration 14, loss = 0.00386386\n",
      "Iteration 15, loss = 0.00157173\n",
      "Iteration 16, loss = 0.00532717\n",
      "Iteration 17, loss = 0.01385679\n",
      "Iteration 18, loss = 0.03487753\n",
      "Iteration 19, loss = 0.02400796\n",
      "Iteration 20, loss = 0.01790539\n",
      "Iteration 21, loss = 0.01556416\n",
      "Iteration 22, loss = 0.01306326\n",
      "Iteration 23, loss = 0.01425358\n",
      "Iteration 24, loss = 0.00808657\n",
      "Iteration 25, loss = 0.00244574\n",
      "Iteration 26, loss = 0.00453223\n",
      "Training loss did not improve more than tol=0.000100 for 10 consecutive epochs. Stopping.\n"
     ]
    },
    {
     "data": {
      "text/plain": [
       "MLPClassifier(activation='relu', alpha=0.0001, batch_size='auto', beta_1=0.9,\n",
       "       beta_2=0.999, early_stopping=False, epsilon=1e-08,\n",
       "       hidden_layer_sizes=(100, 100, 100), learning_rate='constant',\n",
       "       learning_rate_init=0.001, max_iter=500, momentum=0.9,\n",
       "       n_iter_no_change=10, nesterovs_momentum=True, power_t=0.5,\n",
       "       random_state=None, shuffle=True, solver='adam', tol=0.0001,\n",
       "       validation_fraction=0.1, verbose='True', warm_start=False)"
      ]
     },
     "execution_count": 10,
     "metadata": {},
     "output_type": "execute_result"
    }
   ],
   "source": [
    "mlp = MLPClassifier(hidden_layer_sizes=(100, 100, 100), max_iter=500, verbose='True')\n",
    "mlp.fit(train_X, train_y)"
   ]
  },
  {
   "cell_type": "code",
   "execution_count": 11,
   "metadata": {},
   "outputs": [
    {
     "name": "stdout",
     "output_type": "stream",
     "text": [
      "Training set score: 0.999467\n"
     ]
    }
   ],
   "source": [
    "print(\"Training set score: %f\" % mlp.score(train_X, train_y))"
   ]
  },
  {
   "cell_type": "code",
   "execution_count": 12,
   "metadata": {},
   "outputs": [
    {
     "name": "stdout",
     "output_type": "stream",
     "text": [
      "Test set score: 0.970996\n"
     ]
    }
   ],
   "source": [
    "print(\"Test set score: %f\" % mlp.score(test_X, test_y))"
   ]
  },
  {
   "cell_type": "code",
   "execution_count": null,
   "metadata": {},
   "outputs": [],
   "source": []
  }
 ],
 "metadata": {
  "kernelspec": {
   "display_name": "Python 3",
   "language": "python",
   "name": "python3"
  },
  "language_info": {
   "codemirror_mode": {
    "name": "ipython",
    "version": 3
   },
   "file_extension": ".py",
   "mimetype": "text/x-python",
   "name": "python",
   "nbconvert_exporter": "python",
   "pygments_lexer": "ipython3",
   "version": "3.7.2"
  }
 },
 "nbformat": 4,
 "nbformat_minor": 2
}
