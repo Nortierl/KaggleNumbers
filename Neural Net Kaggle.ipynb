{
 "cells": [
  {
   "cell_type": "code",
   "execution_count": 1,
   "metadata": {},
   "outputs": [],
   "source": [
    "#Imports\n",
    "import numpy as np\n",
    "import pandas as pd\n",
    "from sklearn.neural_network import MLPClassifier\n",
    "from sklearn.model_selection import train_test_split\n",
    "from sklearn.metrics import confusion_matrix, precision_score, f1_score, accuracy_score, recall_score, precision_recall_curve, roc_curve\n",
    "from sklearn.metrics import mean_absolute_error\n",
    "from sklearn.metrics import mean_squared_error\n",
    "import matplotlib as mpl\n",
    "import matplotlib.pyplot as plt\n",
    "\n",
    "#CHANGE THESE FILEPATHS TO THE PLACE WHERE THEY ARE STORED\n",
    "#VERY IMPORTANT\n",
    "#Reading Data and Tags\n",
    "train_data_raw = pd.read_csv(\"D:/Users/Owner/Desktop/AI/Project/datasets/train_sorted_data.csv\")\n",
    "train_data_target = pd.read_csv(\"D:/Users/Owner/Desktop/AI/Project/datasets/train_sorted_labels.csv\")\n",
    "test_data_raw = pd.read_csv(\"D:/Users/Owner/Desktop/AI/Project/datasets/test.csv\")"
   ]
  },
  {
   "cell_type": "code",
   "execution_count": 2,
   "metadata": {},
   "outputs": [],
   "source": [
    "#Convert data to 0-7 instead of 0-255\n",
    "train_data = train_data_raw.floordiv(32)\n",
    "test_data = test_data_raw.floordiv(32)\n",
    "#Split into training and test sets\n",
    "train_X, test_X, train_y, test_y = train_test_split(train_data, train_data_target, test_size=0.33)"
   ]
  },
  {
   "cell_type": "code",
   "execution_count": 3,
   "metadata": {},
   "outputs": [
    {
     "name": "stderr",
     "output_type": "stream",
     "text": [
      "c:\\users\\owner\\appdata\\local\\programs\\python\\python37\\lib\\site-packages\\sklearn\\neural_network\\multilayer_perceptron.py:916: DataConversionWarning: A column-vector y was passed when a 1d array was expected. Please change the shape of y to (n_samples, ), for example using ravel().\n",
      "  y = column_or_1d(y, warn=True)\n"
     ]
    },
    {
     "name": "stdout",
     "output_type": "stream",
     "text": [
      "Iteration 1, loss = 0.47566349\n",
      "Iteration 2, loss = 0.16491123\n",
      "Iteration 3, loss = 0.10612521\n",
      "Iteration 4, loss = 0.07558897\n",
      "Iteration 5, loss = 0.05832862\n",
      "Iteration 6, loss = 0.04121074\n",
      "Iteration 7, loss = 0.03358825\n",
      "Iteration 8, loss = 0.02548321\n",
      "Iteration 9, loss = 0.01890963\n",
      "Iteration 10, loss = 0.01577751\n",
      "Iteration 11, loss = 0.01039848\n",
      "Iteration 12, loss = 0.01032879\n",
      "Iteration 13, loss = 0.01635349\n",
      "Iteration 14, loss = 0.01771555\n",
      "Iteration 15, loss = 0.00945757\n",
      "Iteration 16, loss = 0.01040311\n",
      "Iteration 17, loss = 0.01379225\n",
      "Iteration 18, loss = 0.01175738\n",
      "Iteration 19, loss = 0.02361364\n",
      "Iteration 20, loss = 0.00875118\n",
      "Iteration 21, loss = 0.00514106\n",
      "Iteration 22, loss = 0.00410992\n",
      "Iteration 23, loss = 0.00638870\n",
      "Iteration 24, loss = 0.02018582\n",
      "Iteration 25, loss = 0.01733590\n",
      "Iteration 26, loss = 0.01798086\n",
      "Iteration 27, loss = 0.01067533\n",
      "Iteration 28, loss = 0.00433435\n",
      "Iteration 29, loss = 0.00116269\n",
      "Iteration 30, loss = 0.00034067\n",
      "Iteration 31, loss = 0.00026308\n",
      "Iteration 32, loss = 0.00024464\n",
      "Iteration 33, loss = 0.00023325\n",
      "Iteration 34, loss = 0.00022461\n",
      "Iteration 35, loss = 0.00021799\n",
      "Iteration 36, loss = 0.00021247\n",
      "Iteration 37, loss = 0.00020790\n",
      "Iteration 38, loss = 0.00020395\n",
      "Iteration 39, loss = 0.00020066\n",
      "Iteration 40, loss = 0.00019756\n",
      "Iteration 41, loss = 0.00019484\n",
      "Training loss did not improve more than tol=0.000100 for 10 consecutive epochs. Stopping.\n"
     ]
    },
    {
     "data": {
      "text/plain": [
       "MLPClassifier(activation='relu', alpha=0.0001, batch_size='auto', beta_1=0.9,\n",
       "       beta_2=0.999, early_stopping=False, epsilon=1e-08,\n",
       "       hidden_layer_sizes=(100, 100, 100), learning_rate='constant',\n",
       "       learning_rate_init=0.001, max_iter=500, momentum=0.9,\n",
       "       n_iter_no_change=10, nesterovs_momentum=True, power_t=0.5,\n",
       "       random_state=None, shuffle=True, solver='adam', tol=0.0001,\n",
       "       validation_fraction=0.1, verbose='True', warm_start=False)"
      ]
     },
     "execution_count": 3,
     "metadata": {},
     "output_type": "execute_result"
    }
   ],
   "source": [
    "#Create the Neural Net, 3 hidden layers of 100 nodes each\n",
    "mlp = MLPClassifier(hidden_layer_sizes=(100, 100, 100), max_iter=500, verbose='True')\n",
    "#Train the data\n",
    "mlp.fit(train_X, train_y)"
   ]
  },
  {
   "cell_type": "code",
   "execution_count": 4,
   "metadata": {},
   "outputs": [
    {
     "name": "stdout",
     "output_type": "stream",
     "text": [
      "Training set score: 1.000000\n"
     ]
    }
   ],
   "source": [
    "#Training accuracy\n",
    "print(\"Training set score: %f\" % mlp.score(train_X, train_y))"
   ]
  },
  {
   "cell_type": "code",
   "execution_count": 5,
   "metadata": {},
   "outputs": [
    {
     "name": "stdout",
     "output_type": "stream",
     "text": [
      "Test set score: 0.973232\n"
     ]
    }
   ],
   "source": [
    "#Test accuracy\n",
    "print(\"Test set score: %f\" % mlp.score(test_X, test_y))"
   ]
  },
  {
   "cell_type": "code",
   "execution_count": 10,
   "metadata": {},
   "outputs": [
    {
     "name": "stdout",
     "output_type": "stream",
     "text": [
      "Confusion Matrix:\n",
      "[[2267    1   19   24   89   82  168    0  130   27]\n",
      " [   0 3081    9    4    0    3   29   35   30   13]\n",
      " [  63  122 1919  101   89   14  152   50  173  104]\n",
      " [  42   31   90 1773   12  211  145   58  326  213]\n",
      " [   0   89    7    0 1685    4   97    2   88  713]\n",
      " [  40  202   32  296  108  740  280   10  433  422]\n",
      " [  86   17  128    2  244   22 2203    0   31   10]\n",
      " [  14   76   21    1  196   25    6 1519   19 1039]\n",
      " [  21  129   26   67   55   64   44    8 1871  422]\n",
      " [   7   29    1   16  250   13   15   75   55 2366]]\n"
     ]
    }
   ],
   "source": [
    "#Make a confusion matrix\n",
    "y_pred = mlp.predict(train_X)\n",
    "\n",
    "print(\"Confusion Matrix:\")\n",
    "print(confusion_matrix(train_y, y_pred))\n"
   ]
  },
  {
   "cell_type": "code",
   "execution_count": null,
   "metadata": {},
   "outputs": [],
   "source": []
  }
 ],
 "metadata": {
  "kernelspec": {
   "display_name": "Python 3",
   "language": "python",
   "name": "python3"
  },
  "language_info": {
   "codemirror_mode": {
    "name": "ipython",
    "version": 3
   },
   "file_extension": ".py",
   "mimetype": "text/x-python",
   "name": "python",
   "nbconvert_exporter": "python",
   "pygments_lexer": "ipython3",
   "version": "3.7.2"
  }
 },
 "nbformat": 4,
 "nbformat_minor": 2
}
